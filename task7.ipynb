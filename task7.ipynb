{
  "nbformat": 4,
  "nbformat_minor": 0,
  "metadata": {
    "colab": {
      "private_outputs": true,
      "provenance": []
    },
    "kernelspec": {
      "name": "python3",
      "display_name": "Python 3"
    },
    "language_info": {
      "name": "python"
    }
  },
  "cells": [
    {
      "cell_type": "code",
      "execution_count": null,
      "metadata": {
        "id": "J31BRxxrxoQG"
      },
      "outputs": [],
      "source": [
        "import sqlite3"
      ]
    },
    {
      "cell_type": "code",
      "source": [
        "conn = sqlite3.connect('/content/sales_data.db')"
      ],
      "metadata": {
        "id": "kQ0aHOTPyMVt"
      },
      "execution_count": null,
      "outputs": []
    },
    {
      "cell_type": "code",
      "source": [
        "cursor = conn.cursor()"
      ],
      "metadata": {
        "id": "7U4uG7BhzACU"
      },
      "execution_count": null,
      "outputs": []
    },
    {
      "cell_type": "code",
      "source": [
        "cursor.execute(\"SELECT * FROM sales\")"
      ],
      "metadata": {
        "id": "jf0wNXLJzBX6"
      },
      "execution_count": null,
      "outputs": []
    },
    {
      "cell_type": "code",
      "source": [
        "rows = cursor.fetchall()"
      ],
      "metadata": {
        "id": "MfO5APXUzK-9"
      },
      "execution_count": null,
      "outputs": []
    },
    {
      "cell_type": "code",
      "source": [
        "for row in rows:\n",
        "    print(row)"
      ],
      "metadata": {
        "id": "bBgdtLcYzP-x"
      },
      "execution_count": null,
      "outputs": []
    },
    {
      "cell_type": "code",
      "source": [
        "column_names = [description[0] for description in cursor.description]"
      ],
      "metadata": {
        "id": "Dn772EY21M8s"
      },
      "execution_count": null,
      "outputs": []
    },
    {
      "cell_type": "code",
      "source": [
        "print(column_names)"
      ],
      "metadata": {
        "id": "1CYbFNXD1gQP"
      },
      "execution_count": null,
      "outputs": []
    },
    {
      "cell_type": "code",
      "source": [
        "cursor.execute(\"SELECT ID, SUM(Qty) AS total_qty, SUM(Revenue) AS total_rev FROM sales GROUP BY ID\")\n",
        "\n",
        "sel_row = cursor.fetchall()\n",
        "\n",
        "column_names = [description[0] for description in cursor.description]\n",
        "print(column_names)\n",
        "print(sel_row)"
      ],
      "metadata": {
        "id": "KNxaw2hW4p7u"
      },
      "execution_count": null,
      "outputs": []
    },
    {
      "cell_type": "code",
      "source": [
        "import pandas as pd"
      ],
      "metadata": {
        "id": "dXeMd4KC6Vvc"
      },
      "execution_count": null,
      "outputs": []
    },
    {
      "cell_type": "code",
      "source": [
        "df = pd.read_sql_query(\"SELECT ID, SUM(Qty) AS total_qty, SUM(Revenue) AS total_rev FROM sales GROUP BY ID\",\n",
        "conn)"
      ],
      "metadata": {
        "id": "jd17WrJ06c21"
      },
      "execution_count": null,
      "outputs": []
    },
    {
      "cell_type": "code",
      "source": [
        "print(df)"
      ],
      "metadata": {
        "id": "rQLunu0r8PTa"
      },
      "execution_count": null,
      "outputs": []
    },
    {
      "cell_type": "code",
      "source": [
        "conn.close()"
      ],
      "metadata": {
        "id": "IUloNMpO8x_Q"
      },
      "execution_count": null,
      "outputs": []
    },
    {
      "cell_type": "code",
      "source": [
        "import matplotlib.pyplot as plt"
      ],
      "metadata": {
        "id": "w2pfQBn786TR"
      },
      "execution_count": null,
      "outputs": []
    },
    {
      "cell_type": "code",
      "source": [
        "df.plot.bar(x='ID', y='total_rev', rot=0)\n",
        "plt.title('Total Revenue by ID')\n",
        "plt.xlabel('ID')\n",
        "plt.ylabel('Revenue')\n",
        "plt.show()"
      ],
      "metadata": {
        "id": "kEb0qMt08ycH"
      },
      "execution_count": null,
      "outputs": []
    },
    {
      "cell_type": "code",
      "source": [
        "plt.savefig('sales_chart.png')"
      ],
      "metadata": {
        "id": "muVK0irb9yHN"
      },
      "execution_count": null,
      "outputs": []
    }
  ]
}